{
 "cells": [
  {
   "cell_type": "code",
   "execution_count": null,
   "id": "3f5ec818",
   "metadata": {},
   "outputs": [],
   "source": [
    "from tkinter import *\n",
    "def add_2():\n",
    "    compute=float(entry1.get())+float(entry2.get())\n",
    "    print(compute)\n",
    "\n",
    "root =Tk()\n",
    "\n",
    "frame1=Frame(root)\n",
    "frame1.pack()\n",
    "\n",
    "frame2=Frame(root)\n",
    "frame2.pack()\n",
    "\n",
    "Label(frame1,text=\"First  One\").pack(side=LEFT)\n",
    "entry1=Entry(frame1)\n",
    "entry1.pack()\n",
    "\n",
    "Label(frame2,text=\"Second  Two\").pack(side=LEFT)\n",
    "entry2=Entry(frame2)\n",
    "entry2.pack()\n",
    "\n",
    "Button(root,text=\"Add\",command=add_2).pack()\n",
    "root.mainloop()"
   ]
  },
  {
   "cell_type": "code",
   "execution_count": null,
   "id": "f9f5d462",
   "metadata": {},
   "outputs": [],
   "source": [
    "# An Assignment on creating a Tkinter that adds,subtract,divides and multiplys, Two number"
   ]
  },
  {
   "cell_type": "code",
   "execution_count": null,
   "id": "ac69e309",
   "metadata": {},
   "outputs": [
    {
     "name": "stdout",
     "output_type": "stream",
     "text": [
      "99.0\n",
      "-49.0\n",
      "1850.0\n",
      "0.34\n"
     ]
    }
   ],
   "source": [
    "from tkinter import *\n",
    "def add_2():\n",
    "    compute=float(entry1.get())+float(entry2.get())\n",
    "    print(compute)\n",
    "    \n",
    "def sub_2():\n",
    "    compute=float(entry1.get())-float(entry2.get())\n",
    "    print(compute)\n",
    "    \n",
    "def mul_2():\n",
    "    compute=float(entry1.get())*float(entry2.get())\n",
    "    print(compute)\n",
    "    \n",
    "def div_2():\n",
    "    compute=round(float(entry1.get())/float(entry2.get()),2)\n",
    "    print(compute)\n",
    "\n",
    "root =Tk()\n",
    "\n",
    "frame1=Frame(root)\n",
    "frame1.pack()\n",
    "\n",
    "frame2=Frame(root)\n",
    "frame2.pack()\n",
    "\n",
    "Label(frame1,text=\"Number  One\").pack(side=LEFT)\n",
    "entry1=Entry(frame1)\n",
    "entry1.pack()\n",
    "\n",
    "Label(frame2,text=\"Number  Two\").pack(side=LEFT)\n",
    "entry2=Entry(frame2)\n",
    "entry2.pack()\n",
    "\n",
    "Button(root,text=\"Add\",command=add_2).pack(side=LEFT)\n",
    "\n",
    "Button(root,text=\"Subtract\",command=sub_2).pack(side=LEFT)\n",
    "\n",
    "Button(root,text=\"Multiply\",command=mul_2).pack(side=LEFT)\n",
    "\n",
    "Button(root,text=\"Divide\",command=div_2).pack(side=LEFT)\n",
    "root.mainloop()"
   ]
  },
  {
   "cell_type": "code",
   "execution_count": null,
   "id": "a170f823",
   "metadata": {},
   "outputs": [],
   "source": []
  },
  {
   "cell_type": "code",
   "execution_count": null,
   "id": "9ae0ab39",
   "metadata": {},
   "outputs": [],
   "source": []
  }
 ],
 "metadata": {
  "kernelspec": {
   "display_name": "Python 3 (ipykernel)",
   "language": "python",
   "name": "python3"
  },
  "language_info": {
   "codemirror_mode": {
    "name": "ipython",
    "version": 3
   },
   "file_extension": ".py",
   "mimetype": "text/x-python",
   "name": "python",
   "nbconvert_exporter": "python",
   "pygments_lexer": "ipython3",
   "version": "3.9.12"
  }
 },
 "nbformat": 4,
 "nbformat_minor": 5
}
